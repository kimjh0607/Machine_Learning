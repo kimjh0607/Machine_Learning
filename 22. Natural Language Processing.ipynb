{
 "cells": [
  {
   "cell_type": "code",
   "execution_count": 24,
   "metadata": {},
   "outputs": [],
   "source": [
    "# !pip install JPype1"
   ]
  },
  {
   "cell_type": "code",
   "execution_count": 25,
   "metadata": {},
   "outputs": [],
   "source": [
    "# !pip show JPype1"
   ]
  },
  {
   "cell_type": "code",
   "execution_count": 26,
   "metadata": {},
   "outputs": [],
   "source": [
    "# !pip uninstall konlpy"
   ]
  },
  {
   "cell_type": "code",
   "execution_count": 27,
   "metadata": {},
   "outputs": [],
   "source": [
    "# !pip install konlpy"
   ]
  },
  {
   "cell_type": "code",
   "execution_count": 28,
   "metadata": {},
   "outputs": [],
   "source": [
    "import jpype\n",
    "# jpype.startJVM(\"C:/Program Files/Java/jdk-11/bin/server/jvm.dll\")\n",
    "from konlpy.tag import Kkma"
   ]
  },
  {
   "cell_type": "code",
   "execution_count": 29,
   "metadata": {},
   "outputs": [],
   "source": [
    "# kkma = Kkma()"
   ]
  },
  {
   "cell_type": "code",
   "execution_count": 30,
   "metadata": {},
   "outputs": [],
   "source": [
    "# !pip install nltk"
   ]
  },
  {
   "cell_type": "code",
   "execution_count": 31,
   "metadata": {},
   "outputs": [
    {
     "name": "stderr",
     "output_type": "stream",
     "text": [
      "[nltk_data] Downloading package punkt to\n",
      "[nltk_data]     C:\\Users\\fins6\\AppData\\Roaming\\nltk_data...\n",
      "[nltk_data]   Package punkt is already up-to-date!\n"
     ]
    },
    {
     "data": {
      "text/plain": [
       "True"
      ]
     },
     "execution_count": 31,
     "metadata": {},
     "output_type": "execute_result"
    }
   ],
   "source": [
    "from nltk.tokenize import word_tokenize\n",
    "import nltk\n",
    "nltk.download('punkt')\n"
   ]
  },
  {
   "cell_type": "code",
   "execution_count": 32,
   "metadata": {},
   "outputs": [],
   "source": [
    "# naive bayes 분류기는 지도학습이라 정답을 알려주어야 함.\n",
    "train = [\n",
    "    (\"i like you\", \"pos\"),\n",
    "    (\"i hate you\", \"neg\"),\n",
    "    (\"you like me\", \"pos\"),\n",
    "    (\"i like her\", \"neg\"),\n",
    "]"
   ]
  },
  {
   "cell_type": "code",
   "execution_count": 33,
   "metadata": {},
   "outputs": [
    {
     "data": {
      "text/plain": [
       "{'hate', 'her', 'i', 'like', 'me', 'you'}"
      ]
     },
     "execution_count": 33,
     "metadata": {},
     "output_type": "execute_result"
    }
   ],
   "source": [
    "all_words = set(\n",
    "    word.lower() for sentence in train for word in word_tokenize(sentence[0])\n",
    ")\n",
    "all_words"
   ]
  },
  {
   "cell_type": "code",
   "execution_count": 34,
   "metadata": {},
   "outputs": [
    {
     "data": {
      "text/plain": [
       "[({'you': True,\n",
       "   'i': True,\n",
       "   'like': True,\n",
       "   'her': False,\n",
       "   'hate': False,\n",
       "   'me': False},\n",
       "  'pos'),\n",
       " ({'you': True,\n",
       "   'i': True,\n",
       "   'like': False,\n",
       "   'her': False,\n",
       "   'hate': True,\n",
       "   'me': False},\n",
       "  'neg'),\n",
       " ({'you': True,\n",
       "   'i': False,\n",
       "   'like': True,\n",
       "   'her': False,\n",
       "   'hate': False,\n",
       "   'me': True},\n",
       "  'pos'),\n",
       " ({'you': False,\n",
       "   'i': True,\n",
       "   'like': True,\n",
       "   'her': True,\n",
       "   'hate': False,\n",
       "   'me': False},\n",
       "  'neg')]"
      ]
     },
     "execution_count": 34,
     "metadata": {},
     "output_type": "execute_result"
    }
   ],
   "source": [
    "t = [({word: (word in word_tokenize(x[0])) for word in all_words}, x[1]) for x in train]\n",
    "t"
   ]
  },
  {
   "cell_type": "code",
   "execution_count": 35,
   "metadata": {},
   "outputs": [
    {
     "name": "stdout",
     "output_type": "stream",
     "text": [
      "Most Informative Features\n",
      "                    hate = False             pos : neg    =      1.7 : 1.0\n",
      "                     her = False             pos : neg    =      1.7 : 1.0\n",
      "                       i = True              neg : pos    =      1.7 : 1.0\n",
      "                    like = True              pos : neg    =      1.7 : 1.0\n",
      "                      me = False             neg : pos    =      1.7 : 1.0\n",
      "                     you = True              pos : neg    =      1.7 : 1.0\n"
     ]
    }
   ],
   "source": [
    "classifier = nltk.NaiveBayesClassifier.train(t)\n",
    "classifier.show_most_informative_features()"
   ]
  },
  {
   "cell_type": "code",
   "execution_count": 36,
   "metadata": {},
   "outputs": [
    {
     "data": {
      "text/plain": [
       "{'you': False,\n",
       " 'i': True,\n",
       " 'like': True,\n",
       " 'her': False,\n",
       " 'hate': False,\n",
       " 'me': False}"
      ]
     },
     "execution_count": 36,
     "metadata": {},
     "output_type": "execute_result"
    }
   ],
   "source": [
    "test_sentence = 'i like MeRui'\n",
    "test_sent_features = {\n",
    "    word.lower() : (word in word_tokenize(test_sentence.lower())) for word in all_words\n",
    "}\n",
    "test_sent_features"
   ]
  },
  {
   "cell_type": "code",
   "execution_count": 38,
   "metadata": {},
   "outputs": [
    {
     "data": {
      "text/plain": [
       "'neg'"
      ]
     },
     "execution_count": 38,
     "metadata": {},
     "output_type": "execute_result"
    }
   ],
   "source": [
    "classifier.classify(test_sent_features) # output 이상함"
   ]
  },
  {
   "cell_type": "code",
   "execution_count": 39,
   "metadata": {},
   "outputs": [],
   "source": [
    "from sklearn.feature_extraction.text import CountVectorizer"
   ]
  },
  {
   "cell_type": "code",
   "execution_count": 40,
   "metadata": {},
   "outputs": [],
   "source": [
    "vectorizer = CountVectorizer(min_df=1)"
   ]
  },
  {
   "cell_type": "code",
   "execution_count": 42,
   "metadata": {},
   "outputs": [
    {
     "data": {
      "text/plain": [
       "['상처받은 아이들은 너무 일찍 커버려',\n",
       " '내가 상처받은 거 아는 사람 불편해',\n",
       " '잘 사는 사람들은 좋은 사람 되기 쉬워',\n",
       " '아무 일도 아니야 괜찮아']"
      ]
     },
     "execution_count": 42,
     "metadata": {},
     "output_type": "execute_result"
    }
   ],
   "source": [
    "contents = [\n",
    "    '상처받은 아이들은 너무 일찍 커버려',\n",
    "    '내가 상처받은 거 아는 사람 불편해',\n",
    "    '잘 사는 사람들은 좋은 사람 되기 쉬워',\n",
    "    '아무 일도 아니야 괜찮아'\n",
    "]\n",
    "contents"
   ]
  },
  {
   "cell_type": "code",
   "execution_count": 44,
   "metadata": {},
   "outputs": [
    {
     "ename": "AttributeError",
     "evalue": "Java package 'kr.lucypark.okt' is not valid",
     "output_type": "error",
     "traceback": [
      "\u001b[1;31m---------------------------------------------------------------------------\u001b[0m",
      "\u001b[1;31mAttributeError\u001b[0m                            Traceback (most recent call last)",
      "\u001b[1;32mc:\\Users\\fins6\\Documents\\ML_study\\code\\22. Natural Language Processing.ipynb Cell 18\u001b[0m line \u001b[0;36m3\n\u001b[0;32m      <a href='vscode-notebook-cell:/c%3A/Users/fins6/Documents/ML_study/code/22.%20Natural%20Language%20Processing.ipynb#X12sZmlsZQ%3D%3D?line=0'>1</a>\u001b[0m \u001b[39mfrom\u001b[39;00m \u001b[39mkonlpy\u001b[39;00m\u001b[39m.\u001b[39;00m\u001b[39mtag\u001b[39;00m \u001b[39mimport\u001b[39;00m Okt\n\u001b[1;32m----> <a href='vscode-notebook-cell:/c%3A/Users/fins6/Documents/ML_study/code/22.%20Natural%20Language%20Processing.ipynb#X12sZmlsZQ%3D%3D?line=2'>3</a>\u001b[0m t \u001b[39m=\u001b[39m Okt()\n",
      "File \u001b[1;32mc:\\Users\\fins6\\anaconda3\\envs\\ds_study\\lib\\site-packages\\konlpy\\tag\\_okt.py:54\u001b[0m, in \u001b[0;36mOkt.__init__\u001b[1;34m(self, jvmpath, max_heap_size)\u001b[0m\n\u001b[0;32m     51\u001b[0m     jvm\u001b[39m.\u001b[39minit_jvm(jvmpath, max_heap_size)\n\u001b[0;32m     53\u001b[0m oktJavaPackage \u001b[39m=\u001b[39m jpype\u001b[39m.\u001b[39mJPackage(\u001b[39m'\u001b[39m\u001b[39mkr.lucypark.okt\u001b[39m\u001b[39m'\u001b[39m)\n\u001b[1;32m---> 54\u001b[0m OktInterfaceJavaClass \u001b[39m=\u001b[39m oktJavaPackage\u001b[39m.\u001b[39;49mOktInterface\n\u001b[0;32m     55\u001b[0m \u001b[39mself\u001b[39m\u001b[39m.\u001b[39mjki \u001b[39m=\u001b[39m OktInterfaceJavaClass()\n\u001b[0;32m     56\u001b[0m \u001b[39mself\u001b[39m\u001b[39m.\u001b[39mtagset \u001b[39m=\u001b[39m utils\u001b[39m.\u001b[39mread_json(\u001b[39m'\u001b[39m\u001b[39m%s\u001b[39;00m\u001b[39m/data/tagset/twitter.json\u001b[39m\u001b[39m'\u001b[39m \u001b[39m%\u001b[39m utils\u001b[39m.\u001b[39minstallpath)\n",
      "\u001b[1;31mAttributeError\u001b[0m: Java package 'kr.lucypark.okt' is not valid"
     ]
    }
   ],
   "source": [
    "from konlpy.tag import Okt\n",
    "\n",
    "t = Okt()"
   ]
  },
  {
   "cell_type": "code",
   "execution_count": 45,
   "metadata": {},
   "outputs": [
    {
     "name": "stdout",
     "output_type": "stream",
     "text": [
      "Requirement already satisfied: JPype1 in c:\\users\\fins6\\anaconda3\\envs\\ds_study\\lib\\site-packages (1.4.1)\n",
      "Requirement already satisfied: packaging in c:\\users\\fins6\\anaconda3\\envs\\ds_study\\lib\\site-packages (from JPype1) (23.1)\n"
     ]
    },
    {
     "name": "stderr",
     "output_type": "stream",
     "text": [
      "WARNING: There was an error checking the latest version of pip.\n"
     ]
    }
   ],
   "source": [
    "#  !pip install JPype1"
   ]
  },
  {
   "cell_type": "code",
   "execution_count": null,
   "metadata": {},
   "outputs": [],
   "source": []
  }
 ],
 "metadata": {
  "kernelspec": {
   "display_name": "ds_study",
   "language": "python",
   "name": "python3"
  },
  "language_info": {
   "codemirror_mode": {
    "name": "ipython",
    "version": 3
   },
   "file_extension": ".py",
   "mimetype": "text/x-python",
   "name": "python",
   "nbconvert_exporter": "python",
   "pygments_lexer": "ipython3",
   "version": "3.8.18"
  }
 },
 "nbformat": 4,
 "nbformat_minor": 2
}
